{
 "cells": [
  {
   "cell_type": "markdown",
   "id": "88729513",
   "metadata": {},
   "source": [
    "Prepare a prediction model for profit of 50_startups data.\n",
    "Do transformations for getting better predictions of profit and\n",
    "make a table containing R^2 value for each prepared model.\n",
    "\n",
    "R&D Spend -- Research and devolop spend in the past few years\n",
    "Administration -- spend on administration in the past few years\n",
    "Marketing Spend -- spend on Marketing in the past few years\n",
    "State -- states from which data is collected\n",
    "Profit  -- profit of each state in the past few years"
   ]
  },
  {
   "cell_type": "markdown",
   "id": "df84cdf9",
   "metadata": {},
   "source": [
    "Data Preprocessing"
   ]
  },
  {
   "cell_type": "code",
   "execution_count": 1,
   "id": "e0ee2951",
   "metadata": {},
   "outputs": [
    {
     "name": "stderr",
     "output_type": "stream",
     "text": [
      "C:\\Users\\Anuja\\anaconda3\\lib\\site-packages\\scipy\\__init__.py:146: UserWarning: A NumPy version >=1.16.5 and <1.23.0 is required for this version of SciPy (detected version 1.23.1\n",
      "  warnings.warn(f\"A NumPy version >={np_minversion} and <{np_maxversion}\"\n"
     ]
    }
   ],
   "source": [
    "import pandas as pd\n",
    "import matplotlib.pyplot as plt\n",
    "import seaborn as sns\n",
    "from statsmodels.graphics.regressionplots import influence_plot\n",
    "import statsmodels.formula.api as smf\n",
    "import statsmodels.api as sm\n",
    "import numpy as np"
   ]
  },
  {
   "cell_type": "code",
   "execution_count": 2,
   "id": "17eabbba",
   "metadata": {},
   "outputs": [
    {
     "data": {
      "text/html": [
       "<div>\n",
       "<style scoped>\n",
       "    .dataframe tbody tr th:only-of-type {\n",
       "        vertical-align: middle;\n",
       "    }\n",
       "\n",
       "    .dataframe tbody tr th {\n",
       "        vertical-align: top;\n",
       "    }\n",
       "\n",
       "    .dataframe thead th {\n",
       "        text-align: right;\n",
       "    }\n",
       "</style>\n",
       "<table border=\"1\" class=\"dataframe\">\n",
       "  <thead>\n",
       "    <tr style=\"text-align: right;\">\n",
       "      <th></th>\n",
       "      <th>R&amp;D Spend</th>\n",
       "      <th>Administration</th>\n",
       "      <th>Marketing Spend</th>\n",
       "      <th>State</th>\n",
       "      <th>Profit</th>\n",
       "    </tr>\n",
       "  </thead>\n",
       "  <tbody>\n",
       "    <tr>\n",
       "      <th>0</th>\n",
       "      <td>165349.20</td>\n",
       "      <td>136897.80</td>\n",
       "      <td>471784.10</td>\n",
       "      <td>New York</td>\n",
       "      <td>192261.83</td>\n",
       "    </tr>\n",
       "    <tr>\n",
       "      <th>1</th>\n",
       "      <td>162597.70</td>\n",
       "      <td>151377.59</td>\n",
       "      <td>443898.53</td>\n",
       "      <td>California</td>\n",
       "      <td>191792.06</td>\n",
       "    </tr>\n",
       "    <tr>\n",
       "      <th>2</th>\n",
       "      <td>153441.51</td>\n",
       "      <td>101145.55</td>\n",
       "      <td>407934.54</td>\n",
       "      <td>Florida</td>\n",
       "      <td>191050.39</td>\n",
       "    </tr>\n",
       "    <tr>\n",
       "      <th>3</th>\n",
       "      <td>144372.41</td>\n",
       "      <td>118671.85</td>\n",
       "      <td>383199.62</td>\n",
       "      <td>New York</td>\n",
       "      <td>182901.99</td>\n",
       "    </tr>\n",
       "    <tr>\n",
       "      <th>4</th>\n",
       "      <td>142107.34</td>\n",
       "      <td>91391.77</td>\n",
       "      <td>366168.42</td>\n",
       "      <td>Florida</td>\n",
       "      <td>166187.94</td>\n",
       "    </tr>\n",
       "  </tbody>\n",
       "</table>\n",
       "</div>"
      ],
      "text/plain": [
       "   R&D Spend  Administration  Marketing Spend       State     Profit\n",
       "0  165349.20       136897.80        471784.10    New York  192261.83\n",
       "1  162597.70       151377.59        443898.53  California  191792.06\n",
       "2  153441.51       101145.55        407934.54     Florida  191050.39\n",
       "3  144372.41       118671.85        383199.62    New York  182901.99\n",
       "4  142107.34        91391.77        366168.42     Florida  166187.94"
      ]
     },
     "execution_count": 2,
     "metadata": {},
     "output_type": "execute_result"
    }
   ],
   "source": [
    "#Read the data\n",
    "data = pd.read_csv(\"50_Startups.csv\")\n",
    "data.head()"
   ]
  },
  {
   "cell_type": "code",
   "execution_count": 3,
   "id": "51131062",
   "metadata": {},
   "outputs": [
    {
     "name": "stdout",
     "output_type": "stream",
     "text": [
      "<class 'pandas.core.frame.DataFrame'>\n",
      "RangeIndex: 50 entries, 0 to 49\n",
      "Data columns (total 5 columns):\n",
      " #   Column           Non-Null Count  Dtype  \n",
      "---  ------           --------------  -----  \n",
      " 0   R&D Spend        50 non-null     float64\n",
      " 1   Administration   50 non-null     float64\n",
      " 2   Marketing Spend  50 non-null     float64\n",
      " 3   State            50 non-null     object \n",
      " 4   Profit           50 non-null     float64\n",
      "dtypes: float64(4), object(1)\n",
      "memory usage: 2.1+ KB\n"
     ]
    }
   ],
   "source": [
    "data.info()"
   ]
  },
  {
   "cell_type": "markdown",
   "id": "b7fdc845",
   "metadata": {},
   "source": [
    "No Null value"
   ]
  },
  {
   "cell_type": "code",
   "execution_count": 4,
   "id": "96b06836",
   "metadata": {},
   "outputs": [
    {
     "data": {
      "text/plain": [
       "R&D Spend          0\n",
       "Administration     0\n",
       "Marketing Spend    0\n",
       "State              0\n",
       "Profit             0\n",
       "dtype: int64"
      ]
     },
     "execution_count": 4,
     "metadata": {},
     "output_type": "execute_result"
    }
   ],
   "source": [
    "#check for missing values\n",
    "data.isna().sum()"
   ]
  },
  {
   "cell_type": "code",
   "execution_count": 5,
   "id": "f4100754",
   "metadata": {},
   "outputs": [
    {
     "data": {
      "text/html": [
       "<div>\n",
       "<style scoped>\n",
       "    .dataframe tbody tr th:only-of-type {\n",
       "        vertical-align: middle;\n",
       "    }\n",
       "\n",
       "    .dataframe tbody tr th {\n",
       "        vertical-align: top;\n",
       "    }\n",
       "\n",
       "    .dataframe thead th {\n",
       "        text-align: right;\n",
       "    }\n",
       "</style>\n",
       "<table border=\"1\" class=\"dataframe\">\n",
       "  <thead>\n",
       "    <tr style=\"text-align: right;\">\n",
       "      <th></th>\n",
       "      <th>R_DS</th>\n",
       "      <th>ADM</th>\n",
       "      <th>MKTS</th>\n",
       "      <th>State</th>\n",
       "      <th>Profit</th>\n",
       "    </tr>\n",
       "  </thead>\n",
       "  <tbody>\n",
       "    <tr>\n",
       "      <th>0</th>\n",
       "      <td>165349.20</td>\n",
       "      <td>136897.80</td>\n",
       "      <td>471784.10</td>\n",
       "      <td>New York</td>\n",
       "      <td>192261.83</td>\n",
       "    </tr>\n",
       "    <tr>\n",
       "      <th>1</th>\n",
       "      <td>162597.70</td>\n",
       "      <td>151377.59</td>\n",
       "      <td>443898.53</td>\n",
       "      <td>California</td>\n",
       "      <td>191792.06</td>\n",
       "    </tr>\n",
       "    <tr>\n",
       "      <th>2</th>\n",
       "      <td>153441.51</td>\n",
       "      <td>101145.55</td>\n",
       "      <td>407934.54</td>\n",
       "      <td>Florida</td>\n",
       "      <td>191050.39</td>\n",
       "    </tr>\n",
       "    <tr>\n",
       "      <th>3</th>\n",
       "      <td>144372.41</td>\n",
       "      <td>118671.85</td>\n",
       "      <td>383199.62</td>\n",
       "      <td>New York</td>\n",
       "      <td>182901.99</td>\n",
       "    </tr>\n",
       "    <tr>\n",
       "      <th>4</th>\n",
       "      <td>142107.34</td>\n",
       "      <td>91391.77</td>\n",
       "      <td>366168.42</td>\n",
       "      <td>Florida</td>\n",
       "      <td>166187.94</td>\n",
       "    </tr>\n",
       "  </tbody>\n",
       "</table>\n",
       "</div>"
      ],
      "text/plain": [
       "        R_DS        ADM       MKTS       State     Profit\n",
       "0  165349.20  136897.80  471784.10    New York  192261.83\n",
       "1  162597.70  151377.59  443898.53  California  191792.06\n",
       "2  153441.51  101145.55  407934.54     Florida  191050.39\n",
       "3  144372.41  118671.85  383199.62    New York  182901.99\n",
       "4  142107.34   91391.77  366168.42     Florida  166187.94"
      ]
     },
     "execution_count": 5,
     "metadata": {},
     "output_type": "execute_result"
    }
   ],
   "source": [
    "data1=data.rename({'R&D Spend':'R_DS','Administration':'ADM','Marketing Spend':'MKTS'},axis=1)\n",
    "data1.head()"
   ]
  },
  {
   "cell_type": "code",
   "execution_count": 6,
   "id": "07b11add",
   "metadata": {},
   "outputs": [
    {
     "data": {
      "text/html": [
       "<div>\n",
       "<style scoped>\n",
       "    .dataframe tbody tr th:only-of-type {\n",
       "        vertical-align: middle;\n",
       "    }\n",
       "\n",
       "    .dataframe tbody tr th {\n",
       "        vertical-align: top;\n",
       "    }\n",
       "\n",
       "    .dataframe thead th {\n",
       "        text-align: right;\n",
       "    }\n",
       "</style>\n",
       "<table border=\"1\" class=\"dataframe\">\n",
       "  <thead>\n",
       "    <tr style=\"text-align: right;\">\n",
       "      <th></th>\n",
       "      <th>R_DS</th>\n",
       "      <th>ADM</th>\n",
       "      <th>MKTS</th>\n",
       "      <th>State</th>\n",
       "      <th>Profit</th>\n",
       "    </tr>\n",
       "  </thead>\n",
       "  <tbody>\n",
       "  </tbody>\n",
       "</table>\n",
       "</div>"
      ],
      "text/plain": [
       "Empty DataFrame\n",
       "Columns: [R_DS, ADM, MKTS, State, Profit]\n",
       "Index: []"
      ]
     },
     "execution_count": 6,
     "metadata": {},
     "output_type": "execute_result"
    }
   ],
   "source": [
    "#chek for dupilcate entries.... No duplicates in given dataset\n",
    "data1[data1.duplicated()]"
   ]
  },
  {
   "cell_type": "code",
   "execution_count": 7,
   "id": "a4511b2c",
   "metadata": {},
   "outputs": [
    {
     "data": {
      "text/html": [
       "<div>\n",
       "<style scoped>\n",
       "    .dataframe tbody tr th:only-of-type {\n",
       "        vertical-align: middle;\n",
       "    }\n",
       "\n",
       "    .dataframe tbody tr th {\n",
       "        vertical-align: top;\n",
       "    }\n",
       "\n",
       "    .dataframe thead th {\n",
       "        text-align: right;\n",
       "    }\n",
       "</style>\n",
       "<table border=\"1\" class=\"dataframe\">\n",
       "  <thead>\n",
       "    <tr style=\"text-align: right;\">\n",
       "      <th></th>\n",
       "      <th>R_DS</th>\n",
       "      <th>ADM</th>\n",
       "      <th>MKTS</th>\n",
       "      <th>Profit</th>\n",
       "    </tr>\n",
       "  </thead>\n",
       "  <tbody>\n",
       "    <tr>\n",
       "      <th>count</th>\n",
       "      <td>50.000000</td>\n",
       "      <td>50.000000</td>\n",
       "      <td>50.000000</td>\n",
       "      <td>50.000000</td>\n",
       "    </tr>\n",
       "    <tr>\n",
       "      <th>mean</th>\n",
       "      <td>73721.615600</td>\n",
       "      <td>121344.639600</td>\n",
       "      <td>211025.097800</td>\n",
       "      <td>112012.639200</td>\n",
       "    </tr>\n",
       "    <tr>\n",
       "      <th>std</th>\n",
       "      <td>45902.256482</td>\n",
       "      <td>28017.802755</td>\n",
       "      <td>122290.310726</td>\n",
       "      <td>40306.180338</td>\n",
       "    </tr>\n",
       "    <tr>\n",
       "      <th>min</th>\n",
       "      <td>0.000000</td>\n",
       "      <td>51283.140000</td>\n",
       "      <td>0.000000</td>\n",
       "      <td>14681.400000</td>\n",
       "    </tr>\n",
       "    <tr>\n",
       "      <th>25%</th>\n",
       "      <td>39936.370000</td>\n",
       "      <td>103730.875000</td>\n",
       "      <td>129300.132500</td>\n",
       "      <td>90138.902500</td>\n",
       "    </tr>\n",
       "    <tr>\n",
       "      <th>50%</th>\n",
       "      <td>73051.080000</td>\n",
       "      <td>122699.795000</td>\n",
       "      <td>212716.240000</td>\n",
       "      <td>107978.190000</td>\n",
       "    </tr>\n",
       "    <tr>\n",
       "      <th>75%</th>\n",
       "      <td>101602.800000</td>\n",
       "      <td>144842.180000</td>\n",
       "      <td>299469.085000</td>\n",
       "      <td>139765.977500</td>\n",
       "    </tr>\n",
       "    <tr>\n",
       "      <th>max</th>\n",
       "      <td>165349.200000</td>\n",
       "      <td>182645.560000</td>\n",
       "      <td>471784.100000</td>\n",
       "      <td>192261.830000</td>\n",
       "    </tr>\n",
       "  </tbody>\n",
       "</table>\n",
       "</div>"
      ],
      "text/plain": [
       "                R_DS            ADM           MKTS         Profit\n",
       "count      50.000000      50.000000      50.000000      50.000000\n",
       "mean    73721.615600  121344.639600  211025.097800  112012.639200\n",
       "std     45902.256482   28017.802755  122290.310726   40306.180338\n",
       "min         0.000000   51283.140000       0.000000   14681.400000\n",
       "25%     39936.370000  103730.875000  129300.132500   90138.902500\n",
       "50%     73051.080000  122699.795000  212716.240000  107978.190000\n",
       "75%    101602.800000  144842.180000  299469.085000  139765.977500\n",
       "max    165349.200000  182645.560000  471784.100000  192261.830000"
      ]
     },
     "execution_count": 7,
     "metadata": {},
     "output_type": "execute_result"
    }
   ],
   "source": [
    "data1.describe()"
   ]
  },
  {
   "cell_type": "markdown",
   "id": "e8807696",
   "metadata": {},
   "source": [
    "# Correlation Analysis"
   ]
  },
  {
   "cell_type": "code",
   "execution_count": 8,
   "id": "66dbef91",
   "metadata": {},
   "outputs": [
    {
     "data": {
      "text/html": [
       "<div>\n",
       "<style scoped>\n",
       "    .dataframe tbody tr th:only-of-type {\n",
       "        vertical-align: middle;\n",
       "    }\n",
       "\n",
       "    .dataframe tbody tr th {\n",
       "        vertical-align: top;\n",
       "    }\n",
       "\n",
       "    .dataframe thead th {\n",
       "        text-align: right;\n",
       "    }\n",
       "</style>\n",
       "<table border=\"1\" class=\"dataframe\">\n",
       "  <thead>\n",
       "    <tr style=\"text-align: right;\">\n",
       "      <th></th>\n",
       "      <th>R_DS</th>\n",
       "      <th>ADM</th>\n",
       "      <th>MKTS</th>\n",
       "      <th>Profit</th>\n",
       "    </tr>\n",
       "  </thead>\n",
       "  <tbody>\n",
       "    <tr>\n",
       "      <th>R_DS</th>\n",
       "      <td>1.000000</td>\n",
       "      <td>0.241955</td>\n",
       "      <td>0.724248</td>\n",
       "      <td>0.972900</td>\n",
       "    </tr>\n",
       "    <tr>\n",
       "      <th>ADM</th>\n",
       "      <td>0.241955</td>\n",
       "      <td>1.000000</td>\n",
       "      <td>-0.032154</td>\n",
       "      <td>0.200717</td>\n",
       "    </tr>\n",
       "    <tr>\n",
       "      <th>MKTS</th>\n",
       "      <td>0.724248</td>\n",
       "      <td>-0.032154</td>\n",
       "      <td>1.000000</td>\n",
       "      <td>0.747766</td>\n",
       "    </tr>\n",
       "    <tr>\n",
       "      <th>Profit</th>\n",
       "      <td>0.972900</td>\n",
       "      <td>0.200717</td>\n",
       "      <td>0.747766</td>\n",
       "      <td>1.000000</td>\n",
       "    </tr>\n",
       "  </tbody>\n",
       "</table>\n",
       "</div>"
      ],
      "text/plain": [
       "            R_DS       ADM      MKTS    Profit\n",
       "R_DS    1.000000  0.241955  0.724248  0.972900\n",
       "ADM     0.241955  1.000000 -0.032154  0.200717\n",
       "MKTS    0.724248 -0.032154  1.000000  0.747766\n",
       "Profit  0.972900  0.200717  0.747766  1.000000"
      ]
     },
     "execution_count": 8,
     "metadata": {},
     "output_type": "execute_result"
    }
   ],
   "source": [
    "c=data1.corr()\n",
    "c"
   ]
  },
  {
   "cell_type": "markdown",
   "id": "72c8c7b4",
   "metadata": {},
   "source": [
    "Research and development and profit has strong correlation. All feature has direct relationship with profit."
   ]
  },
  {
   "cell_type": "markdown",
   "id": "f32e48a9",
   "metadata": {},
   "source": [
    "# EDA"
   ]
  },
  {
   "cell_type": "code",
   "execution_count": 9,
   "id": "6e05dc63",
   "metadata": {},
   "outputs": [
    {
     "data": {
      "image/png": "[encoded data removed]",
      "text/plain": [
       "<Figure size 432x288 with 2 Axes>"
      ]
     },
     "metadata": {
      "needs_background": "light"
     },
     "output_type": "display_data"
    }
   ],
   "source": [
    "#heatmap\n",
    "sns.heatmap(c,annot=True,cmap='YlGnBu')\n",
    "plt.show()"
   ]
  },
  {
   "cell_type": "markdown",
   "id": "fc245fdf",
   "metadata": {},
   "source": [
    "The heatmap of correlation also demonstrates similar insights i.e. direct relationship with profit"
   ]
  },
  {
   "cell_type": "markdown",
   "id": "bc5dcf3a",
   "metadata": {},
   "source": [
    "Outlier Detection"
   ]
  },
  {
   "cell_type": "code",
   "execution_count": 10,
   "id": "3642f003",
   "metadata": {},
   "outputs": [
    {
     "data": {
      "image/png": "[encoded data removed]",
      "text/plain": [
       "<Figure size 576x576 with 1 Axes>"
      ]
     },
     "metadata": {
      "needs_background": "light"
     },
     "output_type": "display_data"
    }
   ],
   "source": [
    "plt.rcParams['figure.figsize'] = [8,8]\n",
    "sns.boxplot(data=data1['Profit'], orient=\"v\", width=0.7) # orient = \"v\" : vertical boxplot , \n",
    "                                                                            # orient = \"h\" : hotrizontal boxplot\n",
    "plt.title(\"Outliers Variable Distribution\")\n",
    "plt.ylabel(\"Profit Range\")\n",
    "plt.xlabel(\"Continuous Variable\")\n",
    "\n",
    "plt.show()"
   ]
  },
  {
   "cell_type": "markdown",
   "id": "8e34ab25",
   "metadata": {},
   "source": [
    " While looking at the boxplot we can see the outliers in the profit(target variable)"
   ]
  },
  {
   "cell_type": "code",
   "execution_count": 11,
   "id": "189328a8",
   "metadata": {},
   "outputs": [
    {
     "data": {
      "image/png": "[encoded data removed]",
      "text/plain": [
       "<Figure size 576x576 with 1 Axes>"
      ]
     },
     "metadata": {
      "needs_background": "light"
     },
     "output_type": "display_data"
    }
   ],
   "source": [
    "#State wise outliers detection\n",
    "sns.boxplot(x = 'State', y = 'Profit', data = data1)\n",
    "plt.show()"
   ]
  },
  {
   "cell_type": "markdown",
   "id": "f85f962a",
   "metadata": {},
   "source": [
    "Above box plot shows outlier in New York. Also  California state have greater range in both maximum and minimum profit"
   ]
  },
  {
   "cell_type": "markdown",
   "id": "ad70e9be",
   "metadata": {},
   "source": [
    "# Histgram "
   ]
  },
  {
   "cell_type": "code",
   "execution_count": 12,
   "id": "30f28312",
   "metadata": {},
   "outputs": [
    {
     "name": "stderr",
     "output_type": "stream",
     "text": [
      "C:\\Users\\Anuja\\anaconda3\\lib\\site-packages\\seaborn\\distributions.py:2619: FutureWarning: `distplot` is a deprecated function and will be removed in a future version. Please adapt your code to use either `displot` (a figure-level function with similar flexibility) or `histplot` (an axes-level function for histograms).\n",
      "  warnings.warn(msg, FutureWarning)\n"
     ]
    },
    {
     "data": {
      "image/png": "[encoded data removed]",
      "text/plain": [
       "<Figure size 576x576 with 1 Axes>"
      ]
     },
     "metadata": {
      "needs_background": "light"
     },
     "output_type": "display_data"
    }
   ],
   "source": [
    "#Profit\n",
    "sns.distplot(data1['Profit'],bins=5,kde=True)\n",
    "plt.show()"
   ]
  },
  {
   "cell_type": "markdown",
   "id": "6e584332",
   "metadata": {},
   "source": [
    "The average profit (which is 100000) is the most frequent i.e. it's more likely to be in distribution plot"
   ]
  },
  {
   "cell_type": "markdown",
   "id": "20cf53cc",
   "metadata": {},
   "source": [
    "# Pair Plot"
   ]
  },
  {
   "cell_type": "code",
   "execution_count": 13,
   "id": "143b8be9",
   "metadata": {},
   "outputs": [
    {
     "data": {
      "text/plain": [
       "<seaborn.axisgrid.PairGrid at 0x213b15d9940>"
      ]
     },
     "execution_count": 13,
     "metadata": {},
     "output_type": "execute_result"
    },
    {
     "data": {
      "image/png": "[encoded data removed]",
      "text/plain": [
       "<Figure size 720x720 with 20 Axes>"
      ]
     },
     "metadata": {},
     "output_type": "display_data"
    }
   ],
   "source": [
    "sns.set_style(style='darkgrid')\n",
    "sns.pairplot(data1)"
   ]
  },
  {
   "cell_type": "markdown",
   "id": "ad5577a7",
   "metadata": {},
   "source": [
    "As we can see in the pairpot, \n",
    "1.More you invest in Research and Development the greater will be your profit.\n",
    "2.The marketing spend seems to be directly proportional (though little bit outliers are there) with the profit.\n",
    "3.The administration spend seems to have no relation with the profit."
   ]
  },
  {
   "cell_type": "markdown",
   "id": "ac9bd125",
   "metadata": {},
   "source": [
    "# Label Encoder"
   ]
  },
  {
   "cell_type": "code",
   "execution_count": 14,
   "id": "2431de37",
   "metadata": {},
   "outputs": [],
   "source": [
    "from sklearn.preprocessing import LabelEncoder"
   ]
  },
  {
   "cell_type": "code",
   "execution_count": 19,
   "id": "7aad69a9",
   "metadata": {},
   "outputs": [
    {
     "data": {
      "text/html": [
       "<div>\n",
       "<style scoped>\n",
       "    .dataframe tbody tr th:only-of-type {\n",
       "        vertical-align: middle;\n",
       "    }\n",
       "\n",
       "    .dataframe tbody tr th {\n",
       "        vertical-align: top;\n",
       "    }\n",
       "\n",
       "    .dataframe thead th {\n",
       "        text-align: right;\n",
       "    }\n",
       "</style>\n",
       "<table border=\"1\" class=\"dataframe\">\n",
       "  <thead>\n",
       "    <tr style=\"text-align: right;\">\n",
       "      <th></th>\n",
       "      <th>R_DS</th>\n",
       "      <th>ADM</th>\n",
       "      <th>MKTS</th>\n",
       "      <th>State</th>\n",
       "      <th>Profit</th>\n",
       "    </tr>\n",
       "  </thead>\n",
       "  <tbody>\n",
       "    <tr>\n",
       "      <th>0</th>\n",
       "      <td>165349.20</td>\n",
       "      <td>136897.80</td>\n",
       "      <td>471784.10</td>\n",
       "      <td>2</td>\n",
       "      <td>192261.83</td>\n",
       "    </tr>\n",
       "    <tr>\n",
       "      <th>1</th>\n",
       "      <td>162597.70</td>\n",
       "      <td>151377.59</td>\n",
       "      <td>443898.53</td>\n",
       "      <td>0</td>\n",
       "      <td>191792.06</td>\n",
       "    </tr>\n",
       "    <tr>\n",
       "      <th>2</th>\n",
       "      <td>153441.51</td>\n",
       "      <td>101145.55</td>\n",
       "      <td>407934.54</td>\n",
       "      <td>1</td>\n",
       "      <td>191050.39</td>\n",
       "    </tr>\n",
       "    <tr>\n",
       "      <th>3</th>\n",
       "      <td>144372.41</td>\n",
       "      <td>118671.85</td>\n",
       "      <td>383199.62</td>\n",
       "      <td>2</td>\n",
       "      <td>182901.99</td>\n",
       "    </tr>\n",
       "    <tr>\n",
       "      <th>4</th>\n",
       "      <td>142107.34</td>\n",
       "      <td>91391.77</td>\n",
       "      <td>366168.42</td>\n",
       "      <td>1</td>\n",
       "      <td>166187.94</td>\n",
       "    </tr>\n",
       "  </tbody>\n",
       "</table>\n",
       "</div>"
      ],
      "text/plain": [
       "        R_DS        ADM       MKTS  State     Profit\n",
       "0  165349.20  136897.80  471784.10      2  192261.83\n",
       "1  162597.70  151377.59  443898.53      0  191792.06\n",
       "2  153441.51  101145.55  407934.54      1  191050.39\n",
       "3  144372.41  118671.85  383199.62      2  182901.99\n",
       "4  142107.34   91391.77  366168.42      1  166187.94"
      ]
     },
     "execution_count": 19,
     "metadata": {},
     "output_type": "execute_result"
    }
   ],
   "source": [
    "#Label Encoder : Encode labels with value between 0 and n_classes-1.\n",
    "labelencoder = LabelEncoder()\n",
    "data1['State']= labelencoder.fit_transform(data1['State'])\n",
    "data1.head()"
   ]
  },
  {
   "cell_type": "markdown",
   "id": "8f96ff5f",
   "metadata": {},
   "source": [
    "# Feature Scaling"
   ]
  },
  {
   "cell_type": "code",
   "execution_count": 20,
   "id": "425613f8",
   "metadata": {},
   "outputs": [
    {
     "name": "stdout",
     "output_type": "stream",
     "text": [
      "[[1.6534920e+05 1.3689780e+05 4.7178410e+05 2.0000000e+00 1.9226183e+05]\n",
      " [1.6259770e+05 1.5137759e+05 4.4389853e+05 0.0000000e+00 1.9179206e+05]\n",
      " [1.5344151e+05 1.0114555e+05 4.0793454e+05 1.0000000e+00 1.9105039e+05]\n",
      " [1.4437241e+05 1.1867185e+05 3.8319962e+05 2.0000000e+00 1.8290199e+05]\n",
      " [1.4210734e+05 9.1391770e+04 3.6616842e+05 1.0000000e+00 1.6618794e+05]\n",
      " [1.3187690e+05 9.9814710e+04 3.6286136e+05 2.0000000e+00 1.5699112e+05]\n",
      " [1.3461546e+05 1.4719887e+05 1.2771682e+05 0.0000000e+00 1.5612251e+05]\n",
      " [1.3029813e+05 1.4553006e+05 3.2387668e+05 1.0000000e+00 1.5575260e+05]\n",
      " [1.2054252e+05 1.4871895e+05 3.1161329e+05 2.0000000e+00 1.5221177e+05]\n",
      " [1.2333488e+05 1.0867917e+05 3.0498162e+05 0.0000000e+00 1.4975996e+05]\n",
      " [1.0191308e+05 1.1059411e+05 2.2916095e+05 1.0000000e+00 1.4612195e+05]\n",
      " [1.0067196e+05 9.1790610e+04 2.4974455e+05 0.0000000e+00 1.4425940e+05]\n",
      " [9.3863750e+04 1.2732038e+05 2.4983944e+05 1.0000000e+00 1.4158552e+05]\n",
      " [9.1992390e+04 1.3549507e+05 2.5266493e+05 0.0000000e+00 1.3430735e+05]\n",
      " [1.1994324e+05 1.5654742e+05 2.5651292e+05 1.0000000e+00 1.3260265e+05]\n",
      " [1.1452361e+05 1.2261684e+05 2.6177623e+05 2.0000000e+00 1.2991704e+05]\n",
      " [7.8013110e+04 1.2159755e+05 2.6434606e+05 0.0000000e+00 1.2699293e+05]\n",
      " [9.4657160e+04 1.4507758e+05 2.8257431e+05 2.0000000e+00 1.2537037e+05]\n",
      " [9.1749160e+04 1.1417579e+05 2.9491957e+05 1.0000000e+00 1.2426690e+05]\n",
      " [8.6419700e+04 1.5351411e+05 0.0000000e+00 2.0000000e+00 1.2277686e+05]\n",
      " [7.6253860e+04 1.1386730e+05 2.9866447e+05 0.0000000e+00 1.1847403e+05]\n",
      " [7.8389470e+04 1.5377343e+05 2.9973729e+05 2.0000000e+00 1.1131302e+05]\n",
      " [7.3994560e+04 1.2278275e+05 3.0331926e+05 1.0000000e+00 1.1035225e+05]\n",
      " [6.7532530e+04 1.0575103e+05 3.0476873e+05 1.0000000e+00 1.0873399e+05]\n",
      " [7.7044010e+04 9.9281340e+04 1.4057481e+05 2.0000000e+00 1.0855204e+05]\n",
      " [6.4664710e+04 1.3955316e+05 1.3796262e+05 0.0000000e+00 1.0740434e+05]\n",
      " [7.5328870e+04 1.4413598e+05 1.3405007e+05 1.0000000e+00 1.0573354e+05]\n",
      " [7.2107600e+04 1.2786455e+05 3.5318381e+05 2.0000000e+00 1.0500831e+05]\n",
      " [6.6051520e+04 1.8264556e+05 1.1814820e+05 1.0000000e+00 1.0328238e+05]\n",
      " [6.5605480e+04 1.5303206e+05 1.0713838e+05 2.0000000e+00 1.0100464e+05]\n",
      " [6.1994480e+04 1.1564128e+05 9.1131240e+04 1.0000000e+00 9.9937590e+04]\n",
      " [6.1136380e+04 1.5270192e+05 8.8218230e+04 2.0000000e+00 9.7483560e+04]\n",
      " [6.3408860e+04 1.2921961e+05 4.6085250e+04 0.0000000e+00 9.7427840e+04]\n",
      " [5.5493950e+04 1.0305749e+05 2.1463481e+05 1.0000000e+00 9.6778920e+04]\n",
      " [4.6426070e+04 1.5769392e+05 2.1079767e+05 0.0000000e+00 9.6712800e+04]\n",
      " [4.6014020e+04 8.5047440e+04 2.0551764e+05 2.0000000e+00 9.6479510e+04]\n",
      " [2.8663760e+04 1.2705621e+05 2.0112682e+05 1.0000000e+00 9.0708190e+04]\n",
      " [4.4069950e+04 5.1283140e+04 1.9702942e+05 0.0000000e+00 8.9949140e+04]\n",
      " [2.0229590e+04 6.5947930e+04 1.8526510e+05 2.0000000e+00 8.1229060e+04]\n",
      " [3.8558510e+04 8.2982090e+04 1.7499930e+05 0.0000000e+00 8.1005760e+04]\n",
      " [2.8754330e+04 1.1854605e+05 1.7279567e+05 0.0000000e+00 7.8239910e+04]\n",
      " [2.7892920e+04 8.4710770e+04 1.6447071e+05 1.0000000e+00 7.7798830e+04]\n",
      " [2.3640930e+04 9.6189630e+04 1.4800111e+05 0.0000000e+00 7.1498490e+04]\n",
      " [1.5505730e+04 1.2738230e+05 3.5534170e+04 2.0000000e+00 6.9758980e+04]\n",
      " [2.2177740e+04 1.5480614e+05 2.8334720e+04 0.0000000e+00 6.5200330e+04]\n",
      " [1.0002300e+03 1.2415304e+05 1.9039300e+03 2.0000000e+00 6.4926080e+04]\n",
      " [1.3154600e+03 1.1581621e+05 2.9711446e+05 1.0000000e+00 4.9490750e+04]\n",
      " [0.0000000e+00 1.3542692e+05 0.0000000e+00 0.0000000e+00 4.2559730e+04]\n",
      " [5.4205000e+02 5.1743150e+04 0.0000000e+00 2.0000000e+00 3.5673410e+04]\n",
      " [0.0000000e+00 1.1698380e+05 4.5173060e+04 0.0000000e+00 1.4681400e+04]]\n",
      "[[ 2.01641149e+00  5.60752915e-01  2.15394309e+00  1.21267813e+00\n",
      "   2.01120333e+00]\n",
      " [ 1.95586034e+00  1.08280658e+00  1.92360040e+00 -1.21267813e+00\n",
      "   1.99942997e+00]\n",
      " [ 1.75436374e+00 -7.28257028e-01  1.62652767e+00  0.00000000e+00\n",
      "   1.98084225e+00]\n",
      " [ 1.55478369e+00 -9.63646307e-02  1.42221024e+00  1.21267813e+00\n",
      "   1.77662724e+00]\n",
      " [ 1.50493720e+00 -1.07991935e+00  1.28152771e+00  0.00000000e+00\n",
      "   1.35774012e+00]\n",
      " [ 1.27980001e+00 -7.76239071e-01  1.25421046e+00  1.21267813e+00\n",
      "   1.12724963e+00]\n",
      " [ 1.34006641e+00  9.32147208e-01 -6.88149930e-01 -1.21267813e+00\n",
      "   1.10548055e+00]\n",
      " [ 1.24505666e+00  8.71980011e-01  9.32185978e-01  0.00000000e+00\n",
      "   1.09620987e+00]\n",
      " [ 1.03036886e+00  9.86952101e-01  8.30886909e-01  1.21267813e+00\n",
      "   1.00746967e+00]\n",
      " [ 1.09181921e+00 -4.56640246e-01  7.76107440e-01 -1.21267813e+00\n",
      "   9.46022467e-01]\n",
      " [ 6.20398248e-01 -3.87599089e-01  1.49807267e-01  0.00000000e+00\n",
      "   8.54846746e-01]\n",
      " [ 5.93085418e-01 -1.06553960e+00  3.19833623e-01 -1.21267813e+00\n",
      "   8.08167561e-01]\n",
      " [ 4.43259872e-01  2.15449064e-01  3.20617441e-01  0.00000000e+00\n",
      "   7.41154844e-01]\n",
      " [ 4.02077603e-01  5.10178953e-01  3.43956788e-01 -1.21267813e+00\n",
      "   5.58749518e-01]\n",
      " [ 1.01718075e+00  1.26919939e+00  3.75742273e-01  0.00000000e+00\n",
      "   5.16026367e-01]\n",
      " [ 8.97913123e-01  4.58678535e-02  4.19218702e-01  1.21267813e+00\n",
      "   4.48719672e-01]\n",
      " [ 9.44411957e-02  9.11841968e-03  4.40446224e-01 -1.21267813e+00\n",
      "   3.75435696e-01]\n",
      " [ 4.60720127e-01  8.55666318e-01  5.91016724e-01  1.21267813e+00\n",
      "   3.34771135e-01]\n",
      " [ 3.96724938e-01 -2.58465367e-01  6.92992062e-01  0.00000000e+00\n",
      "   3.07115996e-01]\n",
      " [ 2.79441650e-01  1.15983657e+00 -1.74312698e+00  1.21267813e+00\n",
      "   2.69772649e-01]\n",
      " [ 5.57260867e-02 -2.69587651e-01  7.23925995e-01 -1.21267813e+00\n",
      "   1.61935224e-01]\n",
      " [ 1.02723599e-01  1.16918609e+00  7.32787791e-01  1.21267813e+00\n",
      "  -1.75338400e-02]\n",
      " [ 6.00657792e-03  5.18495648e-02  7.62375876e-01  0.00000000e+00\n",
      "  -4.16126351e-02]\n",
      " [-1.36200724e-01 -5.62211268e-01  7.74348908e-01  0.00000000e+00\n",
      "  -8.21694292e-02]\n",
      " [ 7.31146008e-02 -7.95469167e-01 -5.81939297e-01  1.21267813e+00\n",
      "  -8.67294558e-02]\n",
      " [-1.99311688e-01  6.56489139e-01 -6.03516725e-01 -1.21267813e+00\n",
      "  -1.15493086e-01]\n",
      " [ 3.53702028e-02  8.21717916e-01 -6.35835495e-01  0.00000000e+00\n",
      "  -1.57366637e-01]\n",
      " [-3.55189938e-02  2.35068543e-01  1.17427116e+00  1.21267813e+00\n",
      "  -1.75542334e-01]\n",
      " [-1.68792717e-01  2.21014050e+00 -7.67189437e-01  0.00000000e+00\n",
      "  -2.18797551e-01]\n",
      " [-1.78608540e-01  1.14245677e+00 -8.58133663e-01  1.21267813e+00\n",
      "  -2.75882217e-01]\n",
      " [-2.58074369e-01 -2.05628659e-01 -9.90357166e-01  0.00000000e+00\n",
      "  -3.02624599e-01]\n",
      " [-2.76958231e-01  1.13055391e+00 -1.01441945e+00  1.21267813e+00\n",
      "  -3.64127442e-01]\n",
      " [-2.26948675e-01  2.83923813e-01 -1.36244978e+00 -1.21267813e+00\n",
      "  -3.65523895e-01]\n",
      " [-4.01128925e-01 -6.59324033e-01  2.98172434e-02  0.00000000e+00\n",
      "  -3.81787113e-01]\n",
      " [-6.00682122e-01  1.31053525e+00 -1.87861793e-03 -1.21267813e+00\n",
      "  -3.83444211e-01]\n",
      " [-6.09749941e-01 -1.30865753e+00 -4.54931587e-02  1.21267813e+00\n",
      "  -3.89290919e-01]\n",
      " [-9.91570153e-01  2.05924691e-01 -8.17625734e-02  0.00000000e+00\n",
      "  -5.33931605e-01]\n",
      " [-6.52532310e-01 -2.52599402e+00 -1.15608256e-01 -1.21267813e+00\n",
      "  -5.52954899e-01]\n",
      " [-1.17717755e+00 -1.99727037e+00 -2.12784866e-01  1.21267813e+00\n",
      "  -7.71497339e-01]\n",
      " [-7.73820359e-01 -1.38312156e+00 -2.97583276e-01 -1.21267813e+00\n",
      "  -7.77093678e-01]\n",
      " [-9.89577015e-01 -1.00900218e-01 -3.15785883e-01 -1.21267813e+00\n",
      "  -8.46411346e-01]\n",
      " [-1.00853372e+00 -1.32079581e+00 -3.84552407e-01  0.00000000e+00\n",
      "  -8.57465682e-01]\n",
      " [-1.10210556e+00 -9.06937535e-01 -5.20595959e-01 -1.21267813e+00\n",
      "  -1.01536466e+00]\n",
      " [-1.28113364e+00  2.17681524e-01 -1.44960468e+00  1.21267813e+00\n",
      "  -1.05896021e+00]\n",
      " [-1.13430539e+00  1.20641936e+00 -1.50907418e+00 -1.21267813e+00\n",
      "  -1.17320899e+00]\n",
      " [-1.60035036e+00  1.01253936e-01 -1.72739998e+00  1.21267813e+00\n",
      "  -1.18008224e+00]\n",
      " [-1.59341322e+00 -1.99321741e-01  7.11122474e-01  0.00000000e+00\n",
      "  -1.56692212e+00]\n",
      " [-1.62236202e+00  5.07721876e-01 -1.74312698e+00 -1.21267813e+00\n",
      "  -1.74062718e+00]\n",
      " [-1.61043334e+00 -2.50940884e+00 -1.74312698e+00  1.21267813e+00\n",
      "  -1.91321197e+00]\n",
      " [-1.62236202e+00 -1.57225506e-01 -1.36998473e+00 -1.21267813e+00\n",
      "  -2.43931323e+00]]\n"
     ]
    }
   ],
   "source": [
    "from numpy import asarray\n",
    "from sklearn.preprocessing import StandardScaler\n",
    "data2=asarray(data1)\n",
    "print(data2)\n",
    "# define standard scaler\n",
    "scaler = StandardScaler()\n",
    "# transform data\n",
    "scaled = scaler.fit_transform(data2)\n",
    "print(scaled)"
   ]
  },
  {
   "cell_type": "code",
   "execution_count": 21,
   "id": "d2198975",
   "metadata": {},
   "outputs": [],
   "source": [
    "data3=pd.DataFrame(scaled)"
   ]
  },
  {
   "cell_type": "code",
   "execution_count": 22,
   "id": "60b45540",
   "metadata": {},
   "outputs": [
    {
     "data": {
      "text/html": [
       "<div>\n",
       "<style scoped>\n",
       "    .dataframe tbody tr th:only-of-type {\n",
       "        vertical-align: middle;\n",
       "    }\n",
       "\n",
       "    .dataframe tbody tr th {\n",
       "        vertical-align: top;\n",
       "    }\n",
       "\n",
       "    .dataframe thead th {\n",
       "        text-align: right;\n",
       "    }\n",
       "</style>\n",
       "<table border=\"1\" class=\"dataframe\">\n",
       "  <thead>\n",
       "    <tr style=\"text-align: right;\">\n",
       "      <th></th>\n",
       "      <th>0</th>\n",
       "      <th>1</th>\n",
       "      <th>2</th>\n",
       "      <th>3</th>\n",
       "      <th>4</th>\n",
       "    </tr>\n",
       "  </thead>\n",
       "  <tbody>\n",
       "    <tr>\n",
       "      <th>0</th>\n",
       "      <td>2.016411</td>\n",
       "      <td>0.560753</td>\n",
       "      <td>2.153943</td>\n",
       "      <td>1.212678</td>\n",
       "      <td>2.011203</td>\n",
       "    </tr>\n",
       "    <tr>\n",
       "      <th>1</th>\n",
       "      <td>1.955860</td>\n",
       "      <td>1.082807</td>\n",
       "      <td>1.923600</td>\n",
       "      <td>-1.212678</td>\n",
       "      <td>1.999430</td>\n",
       "    </tr>\n",
       "    <tr>\n",
       "      <th>2</th>\n",
       "      <td>1.754364</td>\n",
       "      <td>-0.728257</td>\n",
       "      <td>1.626528</td>\n",
       "      <td>0.000000</td>\n",
       "      <td>1.980842</td>\n",
       "    </tr>\n",
       "    <tr>\n",
       "      <th>3</th>\n",
       "      <td>1.554784</td>\n",
       "      <td>-0.096365</td>\n",
       "      <td>1.422210</td>\n",
       "      <td>1.212678</td>\n",
       "      <td>1.776627</td>\n",
       "    </tr>\n",
       "    <tr>\n",
       "      <th>4</th>\n",
       "      <td>1.504937</td>\n",
       "      <td>-1.079919</td>\n",
       "      <td>1.281528</td>\n",
       "      <td>0.000000</td>\n",
       "      <td>1.357740</td>\n",
       "    </tr>\n",
       "  </tbody>\n",
       "</table>\n",
       "</div>"
      ],
      "text/plain": [
       "          0         1         2         3         4\n",
       "0  2.016411  0.560753  2.153943  1.212678  2.011203\n",
       "1  1.955860  1.082807  1.923600 -1.212678  1.999430\n",
       "2  1.754364 -0.728257  1.626528  0.000000  1.980842\n",
       "3  1.554784 -0.096365  1.422210  1.212678  1.776627\n",
       "4  1.504937 -1.079919  1.281528  0.000000  1.357740"
      ]
     },
     "execution_count": 22,
     "metadata": {},
     "output_type": "execute_result"
    }
   ],
   "source": [
    "data3.head()"
   ]
  },
  {
   "cell_type": "code",
   "execution_count": 24,
   "id": "31125b06",
   "metadata": {},
   "outputs": [],
   "source": [
    "# spliting Dataset in Dependent & Independent Variables\n",
    "X = data3.iloc[:, :4].values\n",
    "y = data3.iloc[:, 4].values"
   ]
  },
  {
   "cell_type": "code",
   "execution_count": 29,
   "id": "36a3dd9f",
   "metadata": {},
   "outputs": [
    {
     "data": {
      "text/plain": [
       "array([ 2.01120333,  1.99942997,  1.98084225,  1.77662724,  1.35774012,\n",
       "        1.12724963,  1.10548055,  1.09620987,  1.00746967,  0.94602247,\n",
       "        0.85484675,  0.80816756,  0.74115484,  0.55874952,  0.51602637,\n",
       "        0.44871967,  0.3754357 ,  0.33477114,  0.307116  ,  0.26977265,\n",
       "        0.16193522, -0.01753384, -0.04161264, -0.08216943, -0.08672946,\n",
       "       -0.11549309, -0.15736664, -0.17554233, -0.21879755, -0.27588222,\n",
       "       -0.3026246 , -0.36412744, -0.36552389, -0.38178711, -0.38344421,\n",
       "       -0.38929092, -0.53393161, -0.5529549 , -0.77149734, -0.77709368,\n",
       "       -0.84641135, -0.85746568, -1.01536466, -1.05896021, -1.17320899,\n",
       "       -1.18008224, -1.56692212, -1.74062718, -1.91321197, -2.43931323])"
      ]
     },
     "execution_count": 29,
     "metadata": {},
     "output_type": "execute_result"
    }
   ],
   "source": [
    "y"
   ]
  },
  {
   "cell_type": "markdown",
   "id": "3dcde8e7",
   "metadata": {},
   "source": [
    "# Split the data into train and test data"
   ]
  },
  {
   "cell_type": "code",
   "execution_count": 30,
   "id": "66622a9b",
   "metadata": {},
   "outputs": [
    {
     "data": {
      "text/plain": [
       "array([[ 1.24505666,  0.87198001,  0.93218598,  0.        ],\n",
       "       [ 1.01718075,  1.26919939,  0.37574227,  0.        ],\n",
       "       [-1.60035036,  0.10125394, -1.72739998,  1.21267813],\n",
       "       [-1.61043334, -2.50940884, -1.74312698,  1.21267813],\n",
       "       [-0.17860854,  1.14245677, -0.85813366,  1.21267813],\n",
       "       [ 0.89791312,  0.04586785,  0.4192187 ,  1.21267813],\n",
       "       [-0.25807437, -0.20562866, -0.99035717,  0.        ],\n",
       "       [-0.22694868,  0.28392381, -1.36244978, -1.21267813],\n",
       "       [ 0.0944412 ,  0.00911842,  0.44044622, -1.21267813],\n",
       "       [-1.10210556, -0.90693753, -0.52059596, -1.21267813],\n",
       "       [ 0.05572609, -0.26958765,  0.72392599, -1.21267813],\n",
       "       [-1.28113364,  0.21768152, -1.44960468,  1.21267813],\n",
       "       [ 1.03036886,  0.9869521 ,  0.83088691,  1.21267813],\n",
       "       [ 0.4020776 ,  0.51017895,  0.34395679, -1.21267813],\n",
       "       [-0.19931169,  0.65648914, -0.60351673, -1.21267813],\n",
       "       [ 1.27980001, -0.77623907,  1.25421046,  1.21267813],\n",
       "       [ 0.46072013,  0.85566632,  0.59101672,  1.21267813],\n",
       "       [-0.98957702, -0.10090022, -0.31578588, -1.21267813],\n",
       "       [-1.62236202, -0.15722551, -1.36998473, -1.21267813],\n",
       "       [ 1.95586034,  1.08280658,  1.9236004 , -1.21267813],\n",
       "       [ 0.44325987,  0.21544906,  0.32061744,  0.        ],\n",
       "       [-0.65253231, -2.52599402, -0.11560826, -1.21267813],\n",
       "       [ 0.0731146 , -0.79546917, -0.5819393 ,  1.21267813],\n",
       "       [ 1.34006641,  0.93214721, -0.68814993, -1.21267813],\n",
       "       [-0.13620072, -0.56221127,  0.77434891,  0.        ],\n",
       "       [-0.99157015,  0.20592469, -0.08176257,  0.        ],\n",
       "       [ 0.1027236 ,  1.16918609,  0.73278779,  1.21267813],\n",
       "       [ 0.27944165,  1.15983657, -1.74312698,  1.21267813],\n",
       "       [ 1.09181921, -0.45664025,  0.77610744, -1.21267813],\n",
       "       [-0.77382036, -1.38312156, -0.29758328, -1.21267813],\n",
       "       [-1.59341322, -0.19932174,  0.71112247,  0.        ],\n",
       "       [ 1.55478369, -0.09636463,  1.42221024,  1.21267813],\n",
       "       [ 2.01641149,  0.56075291,  2.15394309,  1.21267813],\n",
       "       [-1.62236202,  0.50772188, -1.74312698, -1.21267813],\n",
       "       [-1.13430539,  1.20641936, -1.50907418, -1.21267813]])"
      ]
     },
     "execution_count": 30,
     "metadata": {},
     "output_type": "execute_result"
    }
   ],
   "source": [
    "# Split the data into training and testing data\n",
    "from sklearn.model_selection import train_test_split\n",
    "\n",
    "x_train,x_test,y_train,y_test = train_test_split(X,y,train_size=0.7,random_state=0)\n",
    "x_train"
   ]
  },
  {
   "cell_type": "code",
   "execution_count": 31,
   "id": "fd4c472a",
   "metadata": {},
   "outputs": [
    {
     "data": {
      "text/plain": [
       "array([ 1.09620987,  0.51602637, -1.18008224, -1.91321197, -0.27588222,\n",
       "        0.44871967, -0.3026246 , -0.36552389,  0.3754357 , -1.01536466,\n",
       "        0.16193522, -1.05896021,  1.00746967,  0.55874952, -0.11549309,\n",
       "        1.12724963,  0.33477114, -0.84641135, -2.43931323,  1.99942997,\n",
       "        0.74115484, -0.5529549 , -0.08672946,  1.10548055, -0.08216943,\n",
       "       -0.53393161, -0.01753384,  0.26977265,  0.94602247, -0.77709368,\n",
       "       -1.56692212,  1.77662724,  2.01120333, -1.74062718, -1.17320899])"
      ]
     },
     "execution_count": 31,
     "metadata": {},
     "output_type": "execute_result"
    }
   ],
   "source": [
    "y_train"
   ]
  },
  {
   "cell_type": "markdown",
   "id": "c9c0cf21",
   "metadata": {},
   "source": [
    "# Preparing a Model"
   ]
  },
  {
   "cell_type": "code",
   "execution_count": 32,
   "id": "e0a7d4f2",
   "metadata": {},
   "outputs": [
    {
     "data": {
      "text/html": [
       "<style>#sk-container-id-1 {color: black;background-color: white;}#sk-container-id-1 pre{padding: 0;}#sk-container-id-1 div.sk-toggleable {background-color: white;}#sk-container-id-1 label.sk-toggleable__label {cursor: pointer;display: block;width: 100%;margin-bottom: 0;padding: 0.3em;box-sizing: border-box;text-align: center;}#sk-container-id-1 label.sk-toggleable__label-arrow:before {content: \"▸\";float: left;margin-right: 0.25em;color: #696969;}#sk-container-id-1 label.sk-toggleable__label-arrow:hover:before {color: black;}#sk-container-id-1 div.sk-estimator:hover label.sk-toggleable__label-arrow:before {color: black;}#sk-container-id-1 div.sk-toggleable__content {max-height: 0;max-width: 0;overflow: hidden;text-align: left;background-color: #f0f8ff;}#sk-container-id-1 div.sk-toggleable__content pre {margin: 0.2em;color: black;border-radius: 0.25em;background-color: #f0f8ff;}#sk-container-id-1 input.sk-toggleable__control:checked~div.sk-toggleable__content {max-height: 200px;max-width: 100%;overflow: auto;}#sk-container-id-1 input.sk-toggleable__control:checked~label.sk-toggleable__label-arrow:before {content: \"▾\";}#sk-container-id-1 div.sk-estimator input.sk-toggleable__control:checked~label.sk-toggleable__label {background-color: #d4ebff;}#sk-container-id-1 div.sk-label input.sk-toggleable__control:checked~label.sk-toggleable__label {background-color: #d4ebff;}#sk-container-id-1 input.sk-hidden--visually {border: 0;clip: rect(1px 1px 1px 1px);clip: rect(1px, 1px, 1px, 1px);height: 1px;margin: -1px;overflow: hidden;padding: 0;position: absolute;width: 1px;}#sk-container-id-1 div.sk-estimator {font-family: monospace;background-color: #f0f8ff;border: 1px dotted black;border-radius: 0.25em;box-sizing: border-box;margin-bottom: 0.5em;}#sk-container-id-1 div.sk-estimator:hover {background-color: #d4ebff;}#sk-container-id-1 div.sk-parallel-item::after {content: \"\";width: 100%;border-bottom: 1px solid gray;flex-grow: 1;}#sk-container-id-1 div.sk-label:hover label.sk-toggleable__label {background-color: #d4ebff;}#sk-container-id-1 div.sk-serial::before {content: \"\";position: absolute;border-left: 1px solid gray;box-sizing: border-box;top: 0;bottom: 0;left: 50%;z-index: 0;}#sk-container-id-1 div.sk-serial {display: flex;flex-direction: column;align-items: center;background-color: white;padding-right: 0.2em;padding-left: 0.2em;position: relative;}#sk-container-id-1 div.sk-item {position: relative;z-index: 1;}#sk-container-id-1 div.sk-parallel {display: flex;align-items: stretch;justify-content: center;background-color: white;position: relative;}#sk-container-id-1 div.sk-item::before, #sk-container-id-1 div.sk-parallel-item::before {content: \"\";position: absolute;border-left: 1px solid gray;box-sizing: border-box;top: 0;bottom: 0;left: 50%;z-index: -1;}#sk-container-id-1 div.sk-parallel-item {display: flex;flex-direction: column;z-index: 1;position: relative;background-color: white;}#sk-container-id-1 div.sk-parallel-item:first-child::after {align-self: flex-end;width: 50%;}#sk-container-id-1 div.sk-parallel-item:last-child::after {align-self: flex-start;width: 50%;}#sk-container-id-1 div.sk-parallel-item:only-child::after {width: 0;}#sk-container-id-1 div.sk-dashed-wrapped {border: 1px dashed gray;margin: 0 0.4em 0.5em 0.4em;box-sizing: border-box;padding-bottom: 0.4em;background-color: white;}#sk-container-id-1 div.sk-label label {font-family: monospace;font-weight: bold;display: inline-block;line-height: 1.2em;}#sk-container-id-1 div.sk-label-container {text-align: center;}#sk-container-id-1 div.sk-container {/* jupyter's `normalize.less` sets `[hidden] { display: none; }` but bootstrap.min.css set `[hidden] { display: none !important; }` so we also need the `!important` here to be able to override the default hidden behavior on the sphinx rendered scikit-learn.org. See: https://github.com/scikit-learn/scikit-learn/issues/21755 */display: inline-block !important;position: relative;}#sk-container-id-1 div.sk-text-repr-fallback {display: none;}</style><div id=\"sk-container-id-1\" class=\"sk-top-container\"><div class=\"sk-text-repr-fallback\"><pre>LinearRegression()</pre><b>In a Jupyter environment, please rerun this cell to show the HTML representation or trust the notebook. <br />On GitHub, the HTML representation is unable to render, please try loading this page with nbviewer.org.</b></div><div class=\"sk-container\" hidden><div class=\"sk-item\"><div class=\"sk-estimator sk-toggleable\"><input class=\"sk-toggleable__control sk-hidden--visually\" id=\"sk-estimator-id-1\" type=\"checkbox\" checked><label for=\"sk-estimator-id-1\" class=\"sk-toggleable__label sk-toggleable__label-arrow\">LinearRegression</label><div class=\"sk-toggleable__content\"><pre>LinearRegression()</pre></div></div></div></div></div>"
      ],
      "text/plain": [
       "LinearRegression()"
      ]
     },
     "execution_count": 32,
     "metadata": {},
     "output_type": "execute_result"
    }
   ],
   "source": [
    "from sklearn.linear_model import LinearRegression\n",
    "\n",
    "model = LinearRegression()\n",
    "model.fit(x_train,y_train)\n"
   ]
  },
  {
   "cell_type": "code",
   "execution_count": 34,
   "id": "21a60f08",
   "metadata": {},
   "outputs": [
    {
     "data": {
      "text/plain": [
       "array([-0.19942955,  0.5148974 ,  0.5418493 , -0.99436796,  1.69533326,\n",
       "        0.06709071, -1.14026521, -0.33961349,  0.05719308,  1.43048429,\n",
       "       -0.39424322, -0.59908997, -0.0332202 , -0.53823846,  0.39529604])"
      ]
     },
     "execution_count": 34,
     "metadata": {},
     "output_type": "execute_result"
    }
   ],
   "source": [
    "#Prediction on test\n",
    "y_pred = model.predict(x_test)\n",
    "y_pred\n"
   ]
  },
  {
   "cell_type": "code",
   "execution_count": 35,
   "id": "bb124a6e",
   "metadata": {},
   "outputs": [
    {
     "name": "stdout",
     "output_type": "stream",
     "text": [
      "Model Score on Test data 0.9355139722149945\n",
      "Model Score on Train data 0.9515496105627431\n"
     ]
    }
   ],
   "source": [
    "test_score = model.score(x_test, y_test)\n",
    "print(\"Model Score on Test data\",test_score)\n",
    "\n",
    "train_score = model.score(x_train, y_train)\n",
    "print(\"Model Score on Train data\",train_score)"
   ]
  },
  {
   "cell_type": "code",
   "execution_count": 36,
   "id": "8a5460cc",
   "metadata": {},
   "outputs": [
    {
     "data": {
      "text/html": [
       "<div>\n",
       "<style scoped>\n",
       "    .dataframe tbody tr th:only-of-type {\n",
       "        vertical-align: middle;\n",
       "    }\n",
       "\n",
       "    .dataframe tbody tr th {\n",
       "        vertical-align: top;\n",
       "    }\n",
       "\n",
       "    .dataframe thead th {\n",
       "        text-align: right;\n",
       "    }\n",
       "</style>\n",
       "<table border=\"1\" class=\"dataframe\">\n",
       "  <thead>\n",
       "    <tr style=\"text-align: right;\">\n",
       "      <th></th>\n",
       "      <th>Actual Value</th>\n",
       "      <th>Predicted value</th>\n",
       "    </tr>\n",
       "  </thead>\n",
       "  <tbody>\n",
       "    <tr>\n",
       "      <th>0</th>\n",
       "      <td>-0.218798</td>\n",
       "      <td>-0.199430</td>\n",
       "    </tr>\n",
       "    <tr>\n",
       "      <th>1</th>\n",
       "      <td>0.808168</td>\n",
       "      <td>0.514897</td>\n",
       "    </tr>\n",
       "    <tr>\n",
       "      <th>2</th>\n",
       "      <td>0.854847</td>\n",
       "      <td>0.541849</td>\n",
       "    </tr>\n",
       "    <tr>\n",
       "      <th>3</th>\n",
       "      <td>-0.857466</td>\n",
       "      <td>-0.994368</td>\n",
       "    </tr>\n",
       "    <tr>\n",
       "      <th>4</th>\n",
       "      <td>1.980842</td>\n",
       "      <td>1.695333</td>\n",
       "    </tr>\n",
       "    <tr>\n",
       "      <th>5</th>\n",
       "      <td>-0.175542</td>\n",
       "      <td>0.067091</td>\n",
       "    </tr>\n",
       "    <tr>\n",
       "      <th>6</th>\n",
       "      <td>-0.771497</td>\n",
       "      <td>-1.140265</td>\n",
       "    </tr>\n",
       "    <tr>\n",
       "      <th>7</th>\n",
       "      <td>-0.364127</td>\n",
       "      <td>-0.339613</td>\n",
       "    </tr>\n",
       "    <tr>\n",
       "      <th>8</th>\n",
       "      <td>-0.041613</td>\n",
       "      <td>0.057193</td>\n",
       "    </tr>\n",
       "    <tr>\n",
       "      <th>9</th>\n",
       "      <td>1.357740</td>\n",
       "      <td>1.430484</td>\n",
       "    </tr>\n",
       "    <tr>\n",
       "      <th>10</th>\n",
       "      <td>-0.381787</td>\n",
       "      <td>-0.394243</td>\n",
       "    </tr>\n",
       "    <tr>\n",
       "      <th>11</th>\n",
       "      <td>-0.389291</td>\n",
       "      <td>-0.599090</td>\n",
       "    </tr>\n",
       "    <tr>\n",
       "      <th>12</th>\n",
       "      <td>-0.157367</td>\n",
       "      <td>-0.033220</td>\n",
       "    </tr>\n",
       "    <tr>\n",
       "      <th>13</th>\n",
       "      <td>-0.383444</td>\n",
       "      <td>-0.538238</td>\n",
       "    </tr>\n",
       "    <tr>\n",
       "      <th>14</th>\n",
       "      <td>0.307116</td>\n",
       "      <td>0.395296</td>\n",
       "    </tr>\n",
       "  </tbody>\n",
       "</table>\n",
       "</div>"
      ],
      "text/plain": [
       "    Actual Value  Predicted value\n",
       "0      -0.218798        -0.199430\n",
       "1       0.808168         0.514897\n",
       "2       0.854847         0.541849\n",
       "3      -0.857466        -0.994368\n",
       "4       1.980842         1.695333\n",
       "5      -0.175542         0.067091\n",
       "6      -0.771497        -1.140265\n",
       "7      -0.364127        -0.339613\n",
       "8      -0.041613         0.057193\n",
       "9       1.357740         1.430484\n",
       "10     -0.381787        -0.394243\n",
       "11     -0.389291        -0.599090\n",
       "12     -0.157367        -0.033220\n",
       "13     -0.383444        -0.538238\n",
       "14      0.307116         0.395296"
      ]
     },
     "execution_count": 36,
     "metadata": {},
     "output_type": "execute_result"
    }
   ],
   "source": [
    "test_prediction = pd.DataFrame(data={'Actual Value':y_test,'Predicted value':y_pred})\n",
    "test_prediction"
   ]
  },
  {
   "cell_type": "markdown",
   "id": "ba573dc7",
   "metadata": {},
   "source": [
    "# Model evaluation"
   ]
  },
  {
   "cell_type": "markdown",
   "id": "5cc38d95",
   "metadata": {},
   "source": [
    "R-squared\n",
    "Higher R-squared values represent smaller differences between the observed data and the fitted values.\n",
    "R-squared value > 85% is preffered"
   ]
  },
  {
   "cell_type": "code",
   "execution_count": 38,
   "id": "efa629b4",
   "metadata": {},
   "outputs": [
    {
     "name": "stdout",
     "output_type": "stream",
     "text": [
      "R-squared score of model is : 93.39448007716635\n"
     ]
    }
   ],
   "source": [
    "#r-square value\n",
    "from sklearn.metrics import r2_score\n",
    "r2Score = r2_score(y_pred, y_test)\n",
    "print(\"R-squared score of model is :\" ,r2Score*100)"
   ]
  },
  {
   "cell_type": "markdown",
   "id": "3be0f068",
   "metadata": {},
   "source": [
    "Model is good"
   ]
  },
  {
   "cell_type": "markdown",
   "id": "6a3ab094",
   "metadata": {},
   "source": [
    "MSE:Mean Squared Error. By using this approach we can find that how much the regression best fit line is close to all the points.\n",
    "The lower the MSE, the better the forecast."
   ]
  },
  {
   "cell_type": "code",
   "execution_count": 39,
   "id": "a4f90f0c",
   "metadata": {},
   "outputs": [
    {
     "name": "stdout",
     "output_type": "stream",
     "text": [
      "Mean Squarred Error is : 3.909622683697507\n"
     ]
    }
   ],
   "source": [
    "#MSE\n",
    "from sklearn.metrics import mean_squared_error\n",
    "mse = mean_squared_error(y_pred, y_test)\n",
    "print(\"Mean Squarred Error is :\" ,mse*100)"
   ]
  },
  {
   "cell_type": "markdown",
   "id": "3aec8b5b",
   "metadata": {},
   "source": [
    "RMSE: Root Mean Squared Error. This is the similar to Mean squared error(MSE) approach, the only difference is that here we find the root of mean squared error i.e. root of Mean squared error is equals to Root Mean Squared Error. The reason behind finding the root is to find the more close residual error as compared to the values found by mean squared error."
   ]
  },
  {
   "cell_type": "code",
   "execution_count": 40,
   "id": "08919e06",
   "metadata": {},
   "outputs": [
    {
     "name": "stdout",
     "output_type": "stream",
     "text": [
      "Root Mean Squarred Error is :  19.772765824986415\n"
     ]
    }
   ],
   "source": [
    "rmse = np.sqrt(mean_squared_error(y_pred, y_test))\n",
    "print(\"Root Mean Squarred Error is : \",rmse*100)"
   ]
  },
  {
   "cell_type": "markdown",
   "id": "8b0f58ac",
   "metadata": {},
   "source": [
    "MAE: Mean Absolute Error. By using this approach we can find the difference between the actual values and predicted values but that difference is absolute i.e. the difference is positive."
   ]
  },
  {
   "cell_type": "code",
   "execution_count": 41,
   "id": "676de5f4",
   "metadata": {},
   "outputs": [
    {
     "name": "stdout",
     "output_type": "stream",
     "text": [
      "Mean Absolute Error is : 0.16299250206970547\n"
     ]
    }
   ],
   "source": [
    "from sklearn.metrics import mean_absolute_error\n",
    "\n",
    "mae = mean_absolute_error(y_pred,y_test)\n",
    "print(\"Mean Absolute Error is :\" ,mae)"
   ]
  },
  {
   "cell_type": "code",
   "execution_count": null,
   "id": "90d71a83",
   "metadata": {},
   "outputs": [],
   "source": []
  },
  {
   "cell_type": "code",
   "execution_count": null,
   "id": "25182761",
   "metadata": {},
   "outputs": [],
   "source": []
  }
 ],
 "metadata": {
  "kernelspec": {
   "display_name": "Python 3 (ipykernel)",
   "language": "python",
   "name": "python3"
  },
  "language_info": {
   "codemirror_mode": {
    "name": "ipython",
    "version": 3
   },
   "file_extension": ".py",
   "mimetype": "text/x-python",
   "name": "python",
   "nbconvert_exporter": "python",
   "pygments_lexer": "ipython3",
   "version": "3.9.7"
  }
 },
 "nbformat": 4,
 "nbformat_minor": 5
}
